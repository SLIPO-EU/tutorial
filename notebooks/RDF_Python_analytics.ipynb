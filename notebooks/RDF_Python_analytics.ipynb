{
 "cells": [
  {
   "cell_type": "markdown",
   "metadata": {},
   "source": [
    "# RDF graph processing against the integrated POIs"
   ]
  },
  {
   "cell_type": "markdown",
   "metadata": {},
   "source": [
    "#### Auxiliary function to format SPARQL query results as a data frame:"
   ]
  },
  {
   "cell_type": "code",
   "execution_count": null,
   "metadata": {},
   "outputs": [],
   "source": [
    "import pandas as pds\n",
    "\n",
    "def sparql_results_frame(qres):\n",
    "\n",
    "    cols = qres.vars\n",
    "\n",
    "    out = []\n",
    "    for row in qres:\n",
    "        item = []\n",
    "        for c in cols:\n",
    "            item.append(row[c])\n",
    "        out.append(item)\n",
    "\n",
    "    pds.set_option('display.max_colwidth', 0)\n",
    "    \n",
    "    return pds.DataFrame(out, columns=cols)"
   ]
  },
  {
   "cell_type": "markdown",
   "metadata": {},
   "source": [
    "#### Create an **RDF graph** with the triples resulting from data integration:"
   ]
  },
  {
   "cell_type": "code",
   "execution_count": null,
   "metadata": {},
   "outputs": [],
   "source": [
    "from rdflib import Graph,URIRef\n",
    "\n",
    "g = Graph()\n",
    "g.parse('./output/integrated.nt', format=\"nt\")\n",
    "\n",
    "# Get graph size (in number of statements)\n",
    "len(g)"
   ]
  },
  {
   "cell_type": "markdown",
   "metadata": {},
   "source": [
    "#### Number of statements per predicate:"
   ]
  },
  {
   "cell_type": "code",
   "execution_count": null,
   "metadata": {},
   "outputs": [],
   "source": [
    "# SPARQL query is used to retrieve the results from the graph\n",
    "qres = g.query(\n",
    "    \"\"\"SELECT ?p (COUNT(*) AS ?cnt) {\n",
    "      ?s ?p ?o .\n",
    "   } GROUP BY ?p ORDER BY DESC(?cnt)\"\"\")\n",
    "\n",
    "# display unformatted query results\n",
    "#for row in qres:\n",
    "#    print(\"%s %s\" % row)\n",
    "    \n",
    "# display formatted query results\n",
    "sparql_results_frame(qres)"
   ]
  },
  {
   "cell_type": "markdown",
   "metadata": {},
   "source": [
    "#### Identify POIs having _**name**_ similar to a user-specified one:"
   ]
  },
  {
   "cell_type": "code",
   "execution_count": null,
   "metadata": {},
   "outputs": [],
   "source": [
    "# SPARQL query is used to retrieve the results from the graph\n",
    "qres = g.query(\n",
    "    \"\"\"PREFIX slipo: <http://slipo.eu/def#>\n",
    "       PREFIX provo: <http://www.w3.org/ns/prov#>\n",
    "    SELECT DISTINCT ?poiURI ?title\n",
    "    WHERE { ?poiURI slipo:name ?n .\n",
    "            ?n slipo:nameValue ?title .\n",
    "            FILTER regex(?title, \"^Achilleio\", \"i\") \n",
    "        }\n",
    "\"\"\")\n",
    "\n",
    "# display query results\n",
    "sparql_results_frame(qres)"
   ]
  },
  {
   "cell_type": "markdown",
   "metadata": {},
   "source": [
    "#### **Fusion action** regarding a specific POI:"
   ]
  },
  {
   "cell_type": "code",
   "execution_count": null,
   "metadata": {},
   "outputs": [],
   "source": [
    "# SPARQL query is used to retrieve the results from the graph\n",
    "qres = g.query(\n",
    "    \"\"\"PREFIX slipo: <http://slipo.eu/def#>\n",
    "       PREFIX provo: <http://www.w3.org/ns/prov#>\n",
    "    SELECT ?prov ?defaultAction ?conf\n",
    "    WHERE { ?poiURI provo:wasDerivedFrom ?prov .\n",
    "            ?poiURI slipo:name ?n .\n",
    "            ?n slipo:nameValue ?title .\n",
    "            ?poiURI slipo:address ?a .\n",
    "            ?a slipo:street ?s .\n",
    "            ?prov provo:default-fusion-action ?defaultAction .\n",
    "            ?prov provo:fusion-confidence ?conf .\n",
    "            FILTER regex(?title, \"Achilleio\", \"i\")\n",
    "        }\n",
    "\"\"\")\n",
    "\n",
    "print(\"Query returned %d results.\" % len(qres)  )  \n",
    "\n",
    "# display query results\n",
    "sparql_results_frame(qres)"
   ]
  },
  {
   "cell_type": "markdown",
   "metadata": {},
   "source": [
    "#### **Pair of original POIs** involved in this fusion:"
   ]
  },
  {
   "cell_type": "code",
   "execution_count": null,
   "metadata": {},
   "outputs": [],
   "source": [
    "# SPARQL query is used to retrieve the results from the graph\n",
    "qres = g.query(\n",
    "    \"\"\"PREFIX slipo: <http://slipo.eu/def#>\n",
    "       PREFIX provo: <http://www.w3.org/ns/prov#>\n",
    "    SELECT ?leftURI ?rightURI ?conf\n",
    "    WHERE { <http://www.provbook.org/d494ddbd-9a98-39b0-bec9-0477636c42f7> provo:left-uri ?leftURI .\n",
    "            <http://www.provbook.org/d494ddbd-9a98-39b0-bec9-0477636c42f7> provo:right-uri ?rightURI .\n",
    "            <http://www.provbook.org/d494ddbd-9a98-39b0-bec9-0477636c42f7> provo:fusion-confidence ?conf .\n",
    "        }\n",
    "\"\"\")\n",
    "  \n",
    "print(\"Query returned %d results.\" % len(qres))\n",
    "\n",
    "# display pair of POI URIs along with the fusion confidence\n",
    "sparql_results_frame(qres)"
   ]
  },
  {
   "cell_type": "markdown",
   "metadata": {},
   "source": [
    "#### Values per attribute **before and after fusion** regarding this POI:"
   ]
  },
  {
   "cell_type": "code",
   "execution_count": null,
   "metadata": {},
   "outputs": [],
   "source": [
    "# SPARQL query is used to retrieve the results from the graph\n",
    "qres = g.query(\n",
    "    \"\"\"PREFIX slipo: <http://slipo.eu/def#>\n",
    "       PREFIX provo: <http://www.w3.org/ns/prov#>\n",
    "    SELECT DISTINCT ?valLeft ?valRight ?valFused\n",
    "    WHERE { ?poiURI provo:wasDerivedFrom <http://www.provbook.org/d494ddbd-9a98-39b0-bec9-0477636c42f7> .\n",
    "            ?poiURI provo:appliedAction ?action .\n",
    "            ?action provo:attribute ?attr .\n",
    "            ?action provo:left-value ?valLeft .\n",
    "            ?action provo:right-value ?valRight .\n",
    "            ?action provo:fused-value ?valFused .\n",
    "        }\n",
    "\"\"\")\n",
    "    \n",
    "print(\"Query returned %d results.\" % len(qres)) \n",
    "\n",
    "# print query results\n",
    "sparql_results_frame(qres)"
   ]
  },
  {
   "cell_type": "markdown",
   "metadata": {},
   "source": [
    "# POI Analytics\n",
    "\n",
    "#### Once integrated POI data has been saved locally, analysis can be perfomed using tools like **pandas** _DataFrames_, **geopandas** _GeoDataFrames_ or other libraries."
   ]
  },
  {
   "cell_type": "markdown",
   "metadata": {},
   "source": [
    "#### Unzip exported CSV file with the results of data integration:"
   ]
  },
  {
   "cell_type": "code",
   "execution_count": null,
   "metadata": {},
   "outputs": [],
   "source": [
    "import os\n",
    "import zipfile\n",
    "\n",
    "with zipfile.ZipFile('./output/corfu-integrated-pois.zip','r') as zip_ref:\n",
    "    zip_ref.extractall(\"./output/\")\n",
    "    \n",
    "os.rename('./output/points.csv', './output/corfu_pois.csv')"
   ]
  },
  {
   "cell_type": "markdown",
   "metadata": {},
   "source": [
    "#### Load CSV data in a _DataFrame_:"
   ]
  },
  {
   "cell_type": "code",
   "execution_count": null,
   "metadata": {},
   "outputs": [],
   "source": [
    "import pandas as pd\n",
    "\n",
    "pois = pd.read_csv('./output/corfu_pois.csv', delimiter='|', error_bad_lines=False)\n",
    "\n",
    "# Geometries in the exported CSV file are listed in Extended Well-Known Text (EWKT)\n",
    "# Since shapely does not support EWKT, update the geometry by removing the SRID value from EWKT\n",
    "pois['the_geom'] = pois['the_geom'].apply(lambda x: x.split(';')[1])\n",
    "\n",
    "pois.head()"
   ]
  },
  {
   "cell_type": "markdown",
   "metadata": {},
   "source": [
    "#### Create a _GeoDataFrame_:"
   ]
  },
  {
   "cell_type": "code",
   "execution_count": null,
   "metadata": {},
   "outputs": [],
   "source": [
    "import geopandas\n",
    "from shapely import wkt\n",
    "\n",
    "pois['the_geom'] = pois['the_geom'].apply(wkt.loads)\n",
    "\n",
    "gdf = geopandas.GeoDataFrame(pois, geometry='the_geom')"
   ]
  },
  {
   "cell_type": "markdown",
   "metadata": {},
   "source": [
    "#### Display the location of the exported POIs on a **simplified plot** using _matplotlib_:"
   ]
  },
  {
   "cell_type": "code",
   "execution_count": null,
   "metadata": {},
   "outputs": [],
   "source": [
    "%matplotlib inline\n",
    "\n",
    "import matplotlib.pyplot as plt\n",
    "\n",
    "world = geopandas.read_file(geopandas.datasets.get_path('naturalearth_lowres'))\n",
    "\n",
    "# Restrict focus to Germany:\n",
    "ax = world[world.name == 'Greece'].plot(\n",
    "    color='white', edgecolor='black')\n",
    "\n",
    "# Plot the contents of the GeoDataFrame in blue dots:\n",
    "gdf.plot(ax=ax, color='blue')\n",
    "\n",
    "plt.show()"
   ]
  },
  {
   "cell_type": "code",
   "execution_count": null,
   "metadata": {},
   "outputs": [],
   "source": []
  }
 ],
 "metadata": {
  "kernelspec": {
   "display_name": "Python 3",
   "language": "python",
   "name": "python3"
  },
  "language_info": {
   "codemirror_mode": {
    "name": "ipython",
    "version": 3
   },
   "file_extension": ".py",
   "mimetype": "text/x-python",
   "name": "python",
   "nbconvert_exporter": "python",
   "pygments_lexer": "ipython3",
   "version": "3.6.6"
  }
 },
 "nbformat": 4,
 "nbformat_minor": 4
}
